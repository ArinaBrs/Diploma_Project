{
 "cells": [
  {
   "cell_type": "code",
   "execution_count": 1,
   "metadata": {},
   "outputs": [],
   "source": [
    "import pandas as pd\n",
    "import statsmodels.api as sm\n",
    "import numpy as np\n",
    "from dateutil.relativedelta import relativedelta\n",
    "import psycopg2\n",
    "from pylab import rcParams\n",
    "#rcParams['figure.figsize'] = 15, 7"
   ]
  },
  {
   "cell_type": "code",
   "execution_count": 2,
   "metadata": {},
   "outputs": [],
   "source": [
    "files = ['095-106 оборот розничной торговли.xls', '05-01 оборот розничной торговли.xls']\n",
    "file_indicators = [[9, 1], [10, 3], [11, 4], [12, 2]]"
   ]
  },
  {
   "cell_type": "code",
   "execution_count": 3,
   "metadata": {},
   "outputs": [],
   "source": [
    "def connect_database():\n",
    "    connection = psycopg2.connect(\n",
    "        host = '',\n",
    "        port = 5432,\n",
    "        user = 'postgres',\n",
    "        password = 'postgres',\n",
    "        database='postgres' )\n",
    "    connection.autocommit = False\n",
    "    cursor = connection.cursor()\n",
    "    return connection, cursor"
   ]
  },
  {
   "cell_type": "code",
   "execution_count": 4,
   "metadata": {},
   "outputs": [],
   "source": [
    "def select_file_data_from_region_period_indicators(filename1, filename2):\n",
    "    command = (\n",
    "        'select p.value, r.name, rpi.value, rpi.indicator_id, rpi.region_id '\n",
    "        'from data.region_period_indicators rpi '\n",
    "        'join data.periods p on rpi.period_id = p.id '\n",
    "        'join data.regions r on rpi.region_id = r.id '\n",
    "        'join data.incoming_files if on rpi.file_id = if.id '\n",
    "        'where if.filename = \\'{0}\\' or if.filename = \\'{1}\\'').format(filename1, filename2)\n",
    "    cursor.execute(command)\n",
    "    return cursor.fetchall()"
   ]
  },
  {
   "cell_type": "code",
   "execution_count": 5,
   "metadata": {},
   "outputs": [],
   "source": [
    "def region_values(region, data, accumulated=False):\n",
    "    tmp = data.loc[data.region == region]\n",
    "    region_id = tmp['region_id'][0]\n",
    "    tmp = tmp[['value']]\n",
    "    tmp.sort_index(inplace=True)\n",
    "    if accumulated:\n",
    "        last = 0\n",
    "        for i in range(len(tmp.index)):\n",
    "            value = tmp.iloc[i][0]\n",
    "            if tmp.index[i].month != 1:\n",
    "                ind = tmp.index[i]\n",
    "                tmp.loc[ind, 'value'] = value - last\n",
    "            last = value\n",
    "    return tmp, region_id"
   ]
  },
  {
   "cell_type": "code",
   "execution_count": 6,
   "metadata": {},
   "outputs": [],
   "source": [
    "def indicator_data(indicators):\n",
    "    result = pd.DataFrame()\n",
    "    for i in indicators:\n",
    "        tmp = df.loc[df['indicator_id'] == i]\n",
    "        result = result.append(tmp)\n",
    "    return result"
   ]
  },
  {
   "cell_type": "code",
   "execution_count": 7,
   "metadata": {},
   "outputs": [],
   "source": [
    "connection, cursor = connect_database()"
   ]
  },
  {
   "cell_type": "code",
   "execution_count": 8,
   "metadata": {},
   "outputs": [],
   "source": [
    "data = select_file_data_from_region_period_indicators(files[0], files[1])\n",
    "df = pd.DataFrame(list(map(np.ravel, data)), columns=['date', 'region', 'value', 'indicator_id', 'region_id'])\n",
    "df.set_index('date', inplace=True)\n",
    "subjects = np.unique(df['region'])"
   ]
  },
  {
   "cell_type": "code",
   "execution_count": 9,
   "metadata": {},
   "outputs": [
    {
     "data": {
      "text/plain": [
       "array(['Алтайский край', 'Амурская область', 'Архангельская область',\n",
       "       'Астраханская область', 'Белгородская область', 'Брянская область',\n",
       "       'Владимирская область', 'Волгоградская область',\n",
       "       'Вологодская область', 'Воронежская область',\n",
       "       'Дальневосточный федеральный округ',\n",
       "       'Еврейская автономная область', 'Забайкальский край',\n",
       "       'Ивановская область', 'Иркутская область',\n",
       "       'Кабардино-Балкарская Республика', 'Калининградская область',\n",
       "       'Калужская область', 'Камчатский край',\n",
       "       'Карачаево-Черкесская Республика', 'Кемеровская область',\n",
       "       'Кировская область', 'Костромская область', 'Краснодарский край',\n",
       "       'Красноярский край', 'Курганская область', 'Курская область',\n",
       "       'Ленинградская область', 'Липецкая область', 'Магаданская область',\n",
       "       'Московская область', 'Мурманская область',\n",
       "       'Ненецкий автономный округ', 'Нижегородская область',\n",
       "       'Новгородская область', 'Новосибирская область', 'Омская область',\n",
       "       'Оренбургская область', 'Орловская область', 'Пензенская область',\n",
       "       'Пермский край', 'Приволжский федеральный округ',\n",
       "       'Приморский край', 'Псковская область', 'Республика Адыгея',\n",
       "       'Республика Алтай', 'Республика Башкортостан',\n",
       "       'Республика Бурятия', 'Республика Дагестан',\n",
       "       'Республика Ингушетия', 'Республика Калмыкия',\n",
       "       'Республика Карелия', 'Республика Коми', 'Республика Крым',\n",
       "       'Республика Марий Эл', 'Республика Мордовия',\n",
       "       'Республика Саха (Якутия)', 'Республика Северная Осетия-Алания',\n",
       "       'Республика Татарстан', 'Республика Тыва', 'Республика Хакасия',\n",
       "       'Российская Федерация', 'Ростовская область', 'Рязанская область',\n",
       "       'Самарская область', 'Саратовская область', 'Сахалинская область',\n",
       "       'Свердловская область', 'Северо-Западный федеральный округ',\n",
       "       'Северо-Кавказский федеральный округ',\n",
       "       'Сибирский федеральный округ', 'Смоленская область',\n",
       "       'Ставропольский край', 'Тамбовская область', 'Тверская область',\n",
       "       'Томская область', 'Тульская область', 'Тюменская область',\n",
       "       'Удмуртская Республика', 'Ульяновская область',\n",
       "       'Уральский федеральный округ', 'Хабаровский край',\n",
       "       'Ханты-Мансийский автономный округ-Югра',\n",
       "       'Центральный федеральный округ', 'Челябинская область',\n",
       "       'Чеченская Республика', 'Чувашская Республика',\n",
       "       'Чукотский автономный округ', 'Южный федеральный округ',\n",
       "       'Ямало-Ненецкий автономный округ  ', 'Ярославская область',\n",
       "       'г.Москва', 'г.Санкт-Петербург', 'г.Севастополь'], dtype=object)"
      ]
     },
     "execution_count": 9,
     "metadata": {},
     "output_type": "execute_result"
    }
   ],
   "source": [
    "subjects"
   ]
  },
  {
   "cell_type": "code",
   "execution_count": 10,
   "metadata": {},
   "outputs": [],
   "source": [
    "subject = subjects[7]"
   ]
  },
  {
   "cell_type": "code",
   "execution_count": 11,
   "metadata": {},
   "outputs": [],
   "source": [
    "indicators_data = indicator_data(file_indicators[0])"
   ]
  },
  {
   "cell_type": "code",
   "execution_count": 12,
   "metadata": {},
   "outputs": [],
   "source": [
    "tmp, region_id = region_values(subject, indicators_data, True)"
   ]
  },
  {
   "cell_type": "code",
   "execution_count": 13,
   "metadata": {},
   "outputs": [
    {
     "data": {
      "text/html": [
       "<div>\n",
       "<style scoped>\n",
       "    .dataframe tbody tr th:only-of-type {\n",
       "        vertical-align: middle;\n",
       "    }\n",
       "\n",
       "    .dataframe tbody tr th {\n",
       "        vertical-align: top;\n",
       "    }\n",
       "\n",
       "    .dataframe thead th {\n",
       "        text-align: right;\n",
       "    }\n",
       "</style>\n",
       "<table border=\"1\" class=\"dataframe\">\n",
       "  <thead>\n",
       "    <tr style=\"text-align: right;\">\n",
       "      <th></th>\n",
       "      <th>value</th>\n",
       "    </tr>\n",
       "    <tr>\n",
       "      <th>date</th>\n",
       "      <th></th>\n",
       "    </tr>\n",
       "  </thead>\n",
       "  <tbody>\n",
       "    <tr>\n",
       "      <th>2009-01-01</th>\n",
       "      <td>16915.6</td>\n",
       "    </tr>\n",
       "    <tr>\n",
       "      <th>2009-02-01</th>\n",
       "      <td>17081.3</td>\n",
       "    </tr>\n",
       "    <tr>\n",
       "      <th>2009-03-01</th>\n",
       "      <td>16810.2</td>\n",
       "    </tr>\n",
       "    <tr>\n",
       "      <th>2009-04-01</th>\n",
       "      <td>16228.9</td>\n",
       "    </tr>\n",
       "    <tr>\n",
       "      <th>2009-05-01</th>\n",
       "      <td>16625.4</td>\n",
       "    </tr>\n",
       "    <tr>\n",
       "      <th>...</th>\n",
       "      <td>...</td>\n",
       "    </tr>\n",
       "    <tr>\n",
       "      <th>2020-12-01</th>\n",
       "      <td>41372.1</td>\n",
       "    </tr>\n",
       "    <tr>\n",
       "      <th>2021-01-01</th>\n",
       "      <td>34991.5</td>\n",
       "    </tr>\n",
       "    <tr>\n",
       "      <th>2021-02-01</th>\n",
       "      <td>35491.5</td>\n",
       "    </tr>\n",
       "    <tr>\n",
       "      <th>2021-03-01</th>\n",
       "      <td>38495.8</td>\n",
       "    </tr>\n",
       "    <tr>\n",
       "      <th>2021-04-01</th>\n",
       "      <td>39366.9</td>\n",
       "    </tr>\n",
       "  </tbody>\n",
       "</table>\n",
       "<p>148 rows × 1 columns</p>\n",
       "</div>"
      ],
      "text/plain": [
       "              value\n",
       "date               \n",
       "2009-01-01  16915.6\n",
       "2009-02-01  17081.3\n",
       "2009-03-01  16810.2\n",
       "2009-04-01  16228.9\n",
       "2009-05-01  16625.4\n",
       "...             ...\n",
       "2020-12-01  41372.1\n",
       "2021-01-01  34991.5\n",
       "2021-02-01  35491.5\n",
       "2021-03-01  38495.8\n",
       "2021-04-01  39366.9\n",
       "\n",
       "[148 rows x 1 columns]"
      ]
     },
     "execution_count": 13,
     "metadata": {},
     "output_type": "execute_result"
    }
   ],
   "source": [
    "tmp"
   ]
  },
  {
   "cell_type": "code",
   "execution_count": 14,
   "metadata": {},
   "outputs": [
    {
     "data": {
      "text/plain": [
       "pandas.core.frame.DataFrame"
      ]
     },
     "execution_count": 14,
     "metadata": {},
     "output_type": "execute_result"
    }
   ],
   "source": [
    "type(tmp)"
   ]
  },
  {
   "cell_type": "code",
   "execution_count": 15,
   "metadata": {},
   "outputs": [
    {
     "name": "stdout",
     "output_type": "stream",
     "text": [
      "Populating the interactive namespace from numpy and matplotlib\n"
     ]
    }
   ],
   "source": [
    "%pylab inline\n",
    "import pandas as pd\n",
    "from scipy import stats\n",
    "import matplotlib.pyplot as plt\n",
    "\n",
    "def plot_region(data):\n",
    "    plt.figure(figsize(15,7))\n",
    "    plt.title(subject)\n",
    "    \n",
    "    plot(data, label='Оборот розничной торговли')\n",
    "    plt.legend()\n",
    "    pylab.show()"
   ]
  },
  {
   "cell_type": "code",
   "execution_count": 16,
   "metadata": {},
   "outputs": [
    {
     "data": {
      "image/png": "[encoded data removed]",
      "text/plain": [
       "<Figure size 1080x504 with 1 Axes>"
      ]
     },
     "metadata": {
      "needs_background": "light"
     },
     "output_type": "display_data"
    }
   ],
   "source": [
    "plot_region(tmp)"
   ]
  },
  {
   "cell_type": "code",
   "execution_count": 17,
   "metadata": {},
   "outputs": [],
   "source": [
    "import numpy\n",
    "import matplotlib.pyplot as plt\n",
    "import pandas\n",
    "import math\n",
    "from keras.models import Sequential\n",
    "from keras.layers import Dense\n",
    "from keras.layers import LSTM\n",
    "from sklearn.preprocessing import MinMaxScaler\n",
    "from sklearn.metrics import mean_squared_error\n",
    "\n",
    "numpy.random.seed(7)"
   ]
  },
  {
   "cell_type": "code",
   "execution_count": 18,
   "metadata": {},
   "outputs": [],
   "source": [
    "def create_dataset(dataset, look_back=1):\n",
    "\tdataX, dataY = [], []\n",
    "\tfor i in range(len(dataset)-look_back-1):\n",
    "\t\ta = dataset[i:(i+look_back), 0]\n",
    "\t\tdataX.append(a)\n",
    "\t\tdataY.append(dataset[i + look_back, 0])\n",
    "\treturn numpy.array(dataX), numpy.array(dataY)"
   ]
  },
  {
   "cell_type": "code",
   "execution_count": 19,
   "metadata": {},
   "outputs": [],
   "source": [
    "dataset = tmp.values\n",
    "dataset = dataset.astype('float32')"
   ]
  },
  {
   "cell_type": "code",
   "execution_count": 20,
   "metadata": {},
   "outputs": [],
   "source": [
    "scaler = MinMaxScaler(feature_range=(0, 1))\n",
    "dataset = scaler.fit_transform(dataset)"
   ]
  },
  {
   "cell_type": "code",
   "execution_count": 21,
   "metadata": {},
   "outputs": [],
   "source": [
    "train_size = int(len(dataset) * 0.70)\n",
    "test_size = len(dataset) - train_size\n",
    "train, test = dataset[0:train_size,:], dataset[train_size:len(dataset),:]"
   ]
  },
  {
   "cell_type": "code",
   "execution_count": 40,
   "metadata": {},
   "outputs": [],
   "source": [
    "look_back = 1\n",
    "trainX, trainY = create_dataset(train, look_back)\n",
    "testX, testY = create_dataset(test, look_back)"
   ]
  },
  {
   "cell_type": "code",
   "execution_count": 41,
   "metadata": {},
   "outputs": [],
   "source": [
    "trainX = numpy.reshape(trainX, (trainX.shape[0], 1, trainX.shape[1]))\n",
    "testX = numpy.reshape(testX, (testX.shape[0], 1, testX.shape[1]))"
   ]
  },
  {
   "cell_type": "code",
   "execution_count": 42,
   "metadata": {},
   "outputs": [
    {
     "name": "stdout",
     "output_type": "stream",
     "text": [
      "Epoch 1/30\n",
      "101/101 - 0s - loss: 0.0755\n",
      "Epoch 2/30\n",
      "101/101 - 0s - loss: 0.0314\n",
      "Epoch 3/30\n",
      "101/101 - 0s - loss: 0.0219\n",
      "Epoch 4/30\n",
      "101/101 - 0s - loss: 0.0195\n",
      "Epoch 5/30\n",
      "101/101 - 0s - loss: 0.0176\n",
      "Epoch 6/30\n",
      "101/101 - 0s - loss: 0.0160\n",
      "Epoch 7/30\n",
      "101/101 - 0s - loss: 0.0144\n",
      "Epoch 8/30\n",
      "101/101 - 0s - loss: 0.0129\n",
      "Epoch 9/30\n",
      "101/101 - 0s - loss: 0.0117\n",
      "Epoch 10/30\n",
      "101/101 - 0s - loss: 0.0104\n",
      "Epoch 11/30\n",
      "101/101 - 0s - loss: 0.0096\n",
      "Epoch 12/30\n",
      "101/101 - 0s - loss: 0.0087\n",
      "Epoch 13/30\n",
      "101/101 - 0s - loss: 0.0082\n",
      "Epoch 14/30\n",
      "101/101 - 0s - loss: 0.0077\n",
      "Epoch 15/30\n",
      "101/101 - 0s - loss: 0.0075\n",
      "Epoch 16/30\n",
      "101/101 - 0s - loss: 0.0071\n",
      "Epoch 17/30\n",
      "101/101 - 0s - loss: 0.0069\n",
      "Epoch 18/30\n",
      "101/101 - 0s - loss: 0.0068\n",
      "Epoch 19/30\n",
      "101/101 - 0s - loss: 0.0067\n",
      "Epoch 20/30\n",
      "101/101 - 0s - loss: 0.0067\n",
      "Epoch 21/30\n",
      "101/101 - 0s - loss: 0.0067\n",
      "Epoch 22/30\n",
      "101/101 - 0s - loss: 0.0067\n",
      "Epoch 23/30\n",
      "101/101 - 0s - loss: 0.0067\n",
      "Epoch 24/30\n",
      "101/101 - 0s - loss: 0.0066\n",
      "Epoch 25/30\n",
      "101/101 - 0s - loss: 0.0066\n",
      "Epoch 26/30\n",
      "101/101 - 0s - loss: 0.0066\n",
      "Epoch 27/30\n",
      "101/101 - 0s - loss: 0.0067\n",
      "Epoch 28/30\n",
      "101/101 - 0s - loss: 0.0065\n",
      "Epoch 29/30\n",
      "101/101 - 0s - loss: 0.0066\n",
      "Epoch 30/30\n",
      "101/101 - 0s - loss: 0.0065\n"
     ]
    },
    {
     "data": {
      "text/plain": [
       "<tensorflow.python.keras.callbacks.History at 0x11a24112670>"
      ]
     },
     "execution_count": 42,
     "metadata": {},
     "output_type": "execute_result"
    }
   ],
   "source": [
    "model = Sequential()\n",
    "model.add(LSTM(4, input_shape=(1, look_back)))\n",
    "model.add(Dense(1))\n",
    "model.compile(loss='mean_squared_error', optimizer='adam')\n",
    "model.fit(trainX, trainY, epochs=30, batch_size=1, verbose=2)"
   ]
  },
  {
   "cell_type": "code",
   "execution_count": 43,
   "metadata": {},
   "outputs": [],
   "source": [
    "trainPredict = model.predict(trainX)\n",
    "testPredict = model.predict(testX)"
   ]
  },
  {
   "cell_type": "code",
   "execution_count": 44,
   "metadata": {},
   "outputs": [],
   "source": [
    "trainPredict = scaler.inverse_transform(trainPredict)\n",
    "trainY = scaler.inverse_transform([trainY])\n",
    "testPredict = scaler.inverse_transform(testPredict)\n",
    "testY = scaler.inverse_transform([testY])"
   ]
  },
  {
   "cell_type": "code",
   "execution_count": 45,
   "metadata": {},
   "outputs": [
    {
     "name": "stdout",
     "output_type": "stream",
     "text": [
      "Train Score: 2032.91 RMSE\n",
      "Test Score: 3327.60 RMSE\n"
     ]
    }
   ],
   "source": [
    "trainScore = math.sqrt(mean_squared_error(trainY[0], trainPredict[:,0]))\n",
    "print('Train Score: %.2f RMSE' % (trainScore))\n",
    "testScore = math.sqrt(mean_squared_error(testY[0], testPredict[:,0]))\n",
    "print('Test Score: %.2f RMSE' % (testScore))"
   ]
  },
  {
   "cell_type": "code",
   "execution_count": 46,
   "metadata": {},
   "outputs": [],
   "source": [
    "trainPredictPlot = numpy.empty_like(dataset)\n",
    "trainPredictPlot[:, :] = numpy.nan\n",
    "trainPredictPlot[look_back:len(trainPredict)+look_back, :] = trainPredict"
   ]
  },
  {
   "cell_type": "code",
   "execution_count": 47,
   "metadata": {},
   "outputs": [],
   "source": [
    "testPredictPlot = numpy.empty_like(dataset)\n",
    "testPredictPlot[:, :] = numpy.nan\n",
    "testPredictPlot[len(trainPredict)+(look_back*2)+1:len(dataset)-1, :] = testPredict"
   ]
  },
  {
   "cell_type": "code",
   "execution_count": 50,
   "metadata": {
    "scrolled": true
   },
   "outputs": [
    {
     "data": {
      "image/png": "[encoded data removed]",
      "text/plain": [
       "<Figure size 936x360 with 1 Axes>"
      ]
     },
     "metadata": {
      "needs_background": "light"
     },
     "output_type": "display_data"
    }
   ],
   "source": [
    "plt.figure(figsize(13,5))\n",
    "plt.plot(scaler.inverse_transform(dataset), label='Оборот розничной торговли')\n",
    "plt.plot(trainPredictPlot, label='Прогнозирование для тренировочной выборки')\n",
    "plt.plot(testPredictPlot, label='Прогнозирование для тестовой выборки')\n",
    "plt.show()"
   ]
  },
  {
   "cell_type": "code",
   "execution_count": null,
   "metadata": {},
   "outputs": [],
   "source": []
  }
 ],
 "metadata": {
  "kernelspec": {
   "display_name": "Python 3",
   "language": "python",
   "name": "python3"
  },
  "language_info": {
   "codemirror_mode": {
    "name": "ipython",
    "version": 3
   },
   "file_extension": ".py",
   "mimetype": "text/x-python",
   "name": "python",
   "nbconvert_exporter": "python",
   "pygments_lexer": "ipython3",
   "version": "3.8.3"
  }
 },
 "nbformat": 4,
 "nbformat_minor": 2
}
